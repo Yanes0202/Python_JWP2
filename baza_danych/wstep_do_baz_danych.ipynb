{
 "cells": [
  {
   "cell_type": "code",
   "execution_count": 49,
   "id": "3d30d01b-a4d6-4a6c-abc5-b771fd528eb8",
   "metadata": {
    "is_executing": true
   },
   "outputs": [],
   "source": [
    "from sqlalchemy import create_engine, MetaData\n",
    "from sqlalchemy import inspect\n",
    "from sqlalchemy.orm import sessionmaker, declarative_base\n",
    "\n",
    "from sqlalchemy import (\n",
    "    Table, \n",
    "    Column, \n",
    "    String,\n",
    "    Integer, \n",
    "    Float,\n",
    "    Boolean,\n",
    "    select,\n",
    "    text,\n",
    "    func\n",
    ")\n",
    "\n",
    "import sqlalchemy as db"
   ]
  },
  {
   "cell_type": "code",
   "execution_count": 50,
   "id": "5722ebb3-2129-4cf7-a004-87dc36d2e00c",
   "metadata": {
    "is_executing": true
   },
   "outputs": [],
   "source": [
    "engine = create_engine('sqlite:///census.sqlite')"
   ]
  },
  {
   "cell_type": "code",
   "execution_count": 51,
   "id": "62a929da-a57a-4e10-aa3a-189af0fcef78",
   "metadata": {},
   "outputs": [],
   "source": [
    "Base = declarative_base()\n",
    "\n",
    "#Zad2.1\n",
    "class StudentsTable(Base):\n",
    "    __tablename__ = 'students'\n",
    "\n",
    "    id = Column(Integer, primary_key=True)\n",
    "    name = Column(String)\n",
    "    age = Column(Integer)\n",
    "    grade = Column(Float)\n",
    "\n",
    "Base.metadata.create_all(engine)\n",
    "\n",
    "Session = sessionmaker(bind=engine)\n",
    "session = Session()\n",
    "\n",
    "#Zad2.2\n",
    "new_records = [\n",
    "    StudentsTable(name='John', age=30, grade=4.0),\n",
    "    StudentsTable(name='James', age=25, grade=3.5),\n",
    "    StudentsTable(name='Camile', age=27, grade=3.7)\n",
    "    ]\n",
    "session.add_all(new_records)\n",
    "session.commit()\n",
    "\n",
    "session.close()"
   ]
  },
  {
   "cell_type": "code",
   "execution_count": 3,
   "id": "e399a284-a97c-4d13-973c-e2cc03111dbb",
   "metadata": {
    "is_executing": true
   },
   "outputs": [
    {
     "name": "stdout",
     "output_type": "stream",
     "text": [
      "['census', 'state_fact']\n"
     ]
    }
   ],
   "source": [
    "inspector = inspect(engine)\n",
    "table_names = inspector.get_table_names()\n",
    "print(table_names)"
   ]
  },
  {
   "cell_type": "code",
   "execution_count": 4,
   "id": "f36fe41c-53f4-4814-8fd7-c4fa4ee7d47e",
   "metadata": {
    "is_executing": true
   },
   "outputs": [
    {
     "name": "stdout",
     "output_type": "stream",
     "text": [
      "<sqlalchemy.engine.base.Connection object at 0x0000024EEB4E0460>\n"
     ]
    }
   ],
   "source": [
    "connection = engine.connect()\n",
    "print(connection)"
   ]
  },
  {
   "cell_type": "code",
   "execution_count": 5,
   "id": "2d3f1b32-9685-4e99-855b-b90c39afcf7e",
   "metadata": {
    "is_executing": true
   },
   "outputs": [
    {
     "name": "stdout",
     "output_type": "stream",
     "text": [
      "Table('census', MetaData(), Column('state', VARCHAR(length=30), table=<census>), Column('sex', VARCHAR(length=1), table=<census>), Column('age', INTEGER(), table=<census>), Column('pop2000', INTEGER(), table=<census>), Column('pop2008', INTEGER(), table=<census>), schema=None)\n"
     ]
    }
   ],
   "source": [
    "metadata = MetaData()\n",
    "census = Table('census', metadata, autoload_with=engine)\n",
    "print(repr(census))"
   ]
  },
  {
   "cell_type": "code",
   "execution_count": 39,
   "id": "947d7a9d-60d3-4cd1-bf96-06ae0da6ac3b",
   "metadata": {
    "is_executing": true
   },
   "outputs": [
    {
     "name": "stdout",
     "output_type": "stream",
     "text": [
      "[('Illinois', 'M', 0, 89600, 95012), ('Illinois', 'M', 1, 88445, 91829), ('Illinois', 'M', 2, 88729, 89547), ('Illinois', 'M', 3, 88868, 90037), ('Illinois', 'M', 4, 91947, 91111)]\n"
     ]
    }
   ],
   "source": [
    "#Zad1.1\n",
    "stmt = text('SELECT state FROM census')  \n",
    "result_proxy = connection.execute(stmt)\n",
    "results = result_proxy.fetchall()\n",
    "print(results)"
   ]
  },
  {
   "cell_type": "code",
   "execution_count": 37,
   "id": "b4eecaf6-6b2f-4a59-89bb-dad70d0e7c36",
   "metadata": {},
   "outputs": [
    {
     "name": "stdout",
     "output_type": "stream",
     "text": [
      "[(39716961,)]\n"
     ]
    }
   ],
   "source": [
    "#Zad1.2\n",
    "stmt = text(\"SELECT SUM(pop2008) + SUM(pop2000) AS total_pop FROM census WHERE state = 'New York' OR state = 'Alaska'\")  \n",
    "result_proxy = connection.execute(stmt)\n",
    "results = result_proxy.fetchall()\n",
    "print(results)"
   ]
  },
  {
   "cell_type": "code",
   "execution_count": 41,
   "id": "66ed72c9-d966-454c-b8c4-050ad2c1268b",
   "metadata": {},
   "outputs": [
    {
     "name": "stdout",
     "output_type": "stream",
     "text": [
      "[(19465159,)]\n"
     ]
    }
   ],
   "source": [
    "#Zad1.3\n",
    "stmt = text(\"SELECT SUM(pop2008) FROM census WHERE state = 'New York'\")  \n",
    "result_proxy = connection.execute(stmt)\n",
    "results = result_proxy.fetchall()\n",
    "print(results)"
   ]
  },
  {
   "cell_type": "code",
   "execution_count": 68,
   "id": "d6262366-dc9e-465f-9f71-6fe318133868",
   "metadata": {},
   "outputs": [
    {
     "name": "stdout",
     "output_type": "stream",
     "text": [
      "[(1, 'Harry', 30, 4.0), (2, 'James', 25, 3.5), (3, 'Camile', 27, 3.7), (4, 'John', 30, 4.0), (11, 'Michale', 38, 4.0)]\n"
     ]
    }
   ],
   "source": [
    "#Zad2.3\n",
    "stmt = text(\"SELECT * FROM students\")  \n",
    "result_proxy = connection.execute(stmt)\n",
    "results = result_proxy.fetchall()\n",
    "print(results)"
   ]
  },
  {
   "cell_type": "code",
   "execution_count": 54,
   "id": "2de22d66-56b6-4d92-be95-4b7fdaf4f3e2",
   "metadata": {},
   "outputs": [
    {
     "name": "stdout",
     "output_type": "stream",
     "text": [
      "Liczba wstawionych wierszy: 1\n"
     ]
    }
   ],
   "source": [
    "#Zad3.1\n",
    "stmt = text(\"INSERT INTO students(name, age, grade) VALUES('Michale', 38, 4.0)\") \n",
    "result = connection.execute(stmt)\n",
    "inserted_rows_count = result.rowcount\n",
    "\n",
    "print(\"Liczba wstawionych wierszy:\", inserted_rows_count)"
   ]
  },
  {
   "cell_type": "code",
   "execution_count": 55,
   "id": "642cdd90-1bc9-42df-beb2-c8fc6b6bd1f4",
   "metadata": {},
   "outputs": [
    {
     "name": "stdout",
     "output_type": "stream",
     "text": [
      "[(1, 'John', 30, 4.0)]\n"
     ]
    }
   ],
   "source": [
    "#Zad3.2\n",
    "stmt = text(\"SELECT * FROM students WHERE id = 1\")  \n",
    "result_proxy = connection.execute(stmt)\n",
    "results = result_proxy.fetchall()\n",
    "print(results)"
   ]
  },
  {
   "cell_type": "code",
   "execution_count": 57,
   "id": "e3309e2b-857e-412a-a7fa-148580788ee5",
   "metadata": {},
   "outputs": [
    {
     "name": "stdout",
     "output_type": "stream",
     "text": [
      "Liczba wstawionych wierszy: 1\n"
     ]
    }
   ],
   "source": [
    "#Zad3.3\n",
    "stmt = text(\"UPDATE students SET name = 'Harry' WHERE id = 1\")  \n",
    "result = connection.execute(stmt)\n",
    "inserted_rows_count = result.rowcount\n",
    "\n",
    "print(\"Liczba zaktualizowanych wierszy:\", inserted_rows_count)"
   ]
  },
  {
   "cell_type": "code",
   "execution_count": 67,
   "id": "4a053124-d477-48ff-973d-8c57ad2a10e0",
   "metadata": {},
   "outputs": [
    {
     "name": "stdout",
     "output_type": "stream",
     "text": [
      "Liczba usuniętych wierszy: 1\n"
     ]
    }
   ],
   "source": [
    "#Zad3.4\n",
    "stmt = text(\"DELETE FROM students WHERE id = 8\")  \n",
    "result = connection.execute(stmt)\n",
    "inserted_rows_count = result.rowcount\n",
    "\n",
    "print(\"Liczba usuniętych wierszy:\", inserted_rows_count)"
   ]
  },
  {
   "cell_type": "code",
   "execution_count": 16,
   "id": "d5b5ca84-5222-4ac1-ab58-2e8b77ae47c8",
   "metadata": {
    "is_executing": true
   },
   "outputs": [
    {
     "name": "stdout",
     "output_type": "stream",
     "text": [
      "[('Illinois', 'M'), ('Illinois', 'M'), ('Illinois', 'M'), ('Illinois', 'M'), ('Illinois', 'M')]\n"
     ]
    }
   ],
   "source": [
    "query = select(census.c.state, census.c.sex)\n",
    "output = connection.execute(query)\n",
    "results = output.fetchall()\n",
    "print(results[:5])"
   ]
  },
  {
   "cell_type": "code",
   "execution_count": 17,
   "id": "fe680227-b03d-4a0e-a262-843f2ec5f9c3",
   "metadata": {
    "is_executing": true
   },
   "outputs": [
    {
     "name": "stdout",
     "output_type": "stream",
     "text": [
      "SELECT census.state, census.sex \n",
      "FROM census\n"
     ]
    }
   ],
   "source": [
    "print(query)"
   ]
  },
  {
   "cell_type": "code",
   "execution_count": 18,
   "id": "d63f3a34-5e55-4823-bb89-78bdbaf30c13",
   "metadata": {
    "is_executing": true
   },
   "outputs": [
    {
     "name": "stdout",
     "output_type": "stream",
     "text": [
      "[(302876613,)]\n"
     ]
    }
   ],
   "source": [
    "stmt = select(\n",
    "    func.sum(census.c.pop2008)\n",
    ")\n",
    "results = connection.execute(stmt).fetchall()\n",
    "print(results)"
   ]
  },
  {
   "cell_type": "code",
   "execution_count": 19,
   "id": "b5cff703-24e1-4b5f-9ded-2ec79a2278fb",
   "metadata": {
    "is_executing": true
   },
   "outputs": [],
   "source": [
    "stmt = select(\n",
    "    func.sum(census.c.pop2008)\n",
    ").where(census.c.sex == 'F')"
   ]
  },
  {
   "cell_type": "code",
   "execution_count": 20,
   "id": "1c2505a0-3d8e-45e0-a758-990f98e2d6a2",
   "metadata": {
    "is_executing": true
   },
   "outputs": [
    {
     "name": "stdout",
     "output_type": "stream",
     "text": [
      "[(153959198,)]\n"
     ]
    }
   ],
   "source": [
    "results = connection.execute(stmt).fetchall()\n",
    "print(results)"
   ]
  },
  {
   "cell_type": "code",
   "execution_count": null,
   "id": "7c33fc3d-9d15-4639-8bb5-51c8087a0994",
   "metadata": {
    "is_executing": true
   },
   "outputs": [],
   "source": []
  },
  {
   "cell_type": "code",
   "execution_count": null,
   "id": "88ab8570-054d-413c-99a9-d9c3ce6d3c09",
   "metadata": {
    "is_executing": true
   },
   "outputs": [],
   "source": []
  },
  {
   "cell_type": "code",
   "execution_count": null,
   "id": "50398b36-7037-4c9d-9380-507a99272985",
   "metadata": {
    "is_executing": true
   },
   "outputs": [],
   "source": []
  },
  {
   "cell_type": "code",
   "execution_count": null,
   "id": "1f854e3d-8f3d-441d-9861-160e552fba54",
   "metadata": {
    "is_executing": true
   },
   "outputs": [],
   "source": []
  }
 ],
 "metadata": {
  "kernelspec": {
   "display_name": "Python 3 (ipykernel)",
   "language": "python",
   "name": "python3"
  },
  "language_info": {
   "codemirror_mode": {
    "name": "ipython",
    "version": 3
   },
   "file_extension": ".py",
   "mimetype": "text/x-python",
   "name": "python",
   "nbconvert_exporter": "python",
   "pygments_lexer": "ipython3",
   "version": "3.10.2"
  }
 },
 "nbformat": 4,
 "nbformat_minor": 5
}
